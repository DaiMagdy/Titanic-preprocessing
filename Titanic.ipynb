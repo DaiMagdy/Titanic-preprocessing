{
 "cells": [
  {
   "cell_type": "markdown",
   "id": "d659eb2b",
   "metadata": {},
   "source": [
    "***INSTALLING***"
   ]
  },
  {
   "cell_type": "code",
   "execution_count": 1,
   "id": "0d153ee5",
   "metadata": {},
   "outputs": [
    {
     "name": "stdout",
     "output_type": "stream",
     "text": [
      "Requirement already satisfied: matplotlib in c:\\users\\lenovo\\appdata\\local\\programs\\python\\python312\\lib\\site-packages (3.10.5)\n",
      "Requirement already satisfied: contourpy>=1.0.1 in c:\\users\\lenovo\\appdata\\local\\programs\\python\\python312\\lib\\site-packages (from matplotlib) (1.3.3)\n",
      "Requirement already satisfied: cycler>=0.10 in c:\\users\\lenovo\\appdata\\local\\programs\\python\\python312\\lib\\site-packages (from matplotlib) (0.12.1)\n",
      "Requirement already satisfied: fonttools>=4.22.0 in c:\\users\\lenovo\\appdata\\local\\programs\\python\\python312\\lib\\site-packages (from matplotlib) (4.59.0)\n",
      "Requirement already satisfied: kiwisolver>=1.3.1 in c:\\users\\lenovo\\appdata\\local\\programs\\python\\python312\\lib\\site-packages (from matplotlib) (1.4.8)\n",
      "Requirement already satisfied: numpy>=1.23 in c:\\users\\lenovo\\appdata\\local\\programs\\python\\python312\\lib\\site-packages (from matplotlib) (2.3.2)\n",
      "Requirement already satisfied: packaging>=20.0 in c:\\users\\lenovo\\appdata\\roaming\\python\\python312\\site-packages (from matplotlib) (25.0)\n",
      "Requirement already satisfied: pillow>=8 in c:\\users\\lenovo\\appdata\\local\\programs\\python\\python312\\lib\\site-packages (from matplotlib) (11.3.0)\n",
      "Requirement already satisfied: pyparsing>=2.3.1 in c:\\users\\lenovo\\appdata\\local\\programs\\python\\python312\\lib\\site-packages (from matplotlib) (3.2.3)\n",
      "Requirement already satisfied: python-dateutil>=2.7 in c:\\users\\lenovo\\appdata\\roaming\\python\\python312\\site-packages (from matplotlib) (2.9.0.post0)\n",
      "Requirement already satisfied: six>=1.5 in c:\\users\\lenovo\\appdata\\roaming\\python\\python312\\site-packages (from python-dateutil>=2.7->matplotlib) (1.17.0)\n",
      "Note: you may need to restart the kernel to use updated packages.\n"
     ]
    },
    {
     "name": "stderr",
     "output_type": "stream",
     "text": [
      "\n",
      "[notice] A new release of pip is available: 24.3.1 -> 25.2\n",
      "[notice] To update, run: python.exe -m pip install --upgrade pip\n"
     ]
    }
   ],
   "source": [
    "pip install matplotlib\n"
   ]
  },
  {
   "cell_type": "code",
   "execution_count": 2,
   "id": "ae396f28",
   "metadata": {},
   "outputs": [
    {
     "name": "stdout",
     "output_type": "stream",
     "text": [
      "Requirement already satisfied: seaborn in c:\\users\\lenovo\\appdata\\local\\programs\\python\\python312\\lib\\site-packages (0.13.2)\n",
      "Requirement already satisfied: numpy!=1.24.0,>=1.20 in c:\\users\\lenovo\\appdata\\local\\programs\\python\\python312\\lib\\site-packages (from seaborn) (2.3.2)\n",
      "Requirement already satisfied: pandas>=1.2 in c:\\users\\lenovo\\appdata\\local\\programs\\python\\python312\\lib\\site-packages (from seaborn) (2.3.1)\n",
      "Requirement already satisfied: matplotlib!=3.6.1,>=3.4 in c:\\users\\lenovo\\appdata\\local\\programs\\python\\python312\\lib\\site-packages (from seaborn) (3.10.5)\n",
      "Requirement already satisfied: contourpy>=1.0.1 in c:\\users\\lenovo\\appdata\\local\\programs\\python\\python312\\lib\\site-packages (from matplotlib!=3.6.1,>=3.4->seaborn) (1.3.3)\n",
      "Requirement already satisfied: cycler>=0.10 in c:\\users\\lenovo\\appdata\\local\\programs\\python\\python312\\lib\\site-packages (from matplotlib!=3.6.1,>=3.4->seaborn) (0.12.1)\n",
      "Requirement already satisfied: fonttools>=4.22.0 in c:\\users\\lenovo\\appdata\\local\\programs\\python\\python312\\lib\\site-packages (from matplotlib!=3.6.1,>=3.4->seaborn) (4.59.0)\n",
      "Requirement already satisfied: kiwisolver>=1.3.1 in c:\\users\\lenovo\\appdata\\local\\programs\\python\\python312\\lib\\site-packages (from matplotlib!=3.6.1,>=3.4->seaborn) (1.4.8)\n",
      "Requirement already satisfied: packaging>=20.0 in c:\\users\\lenovo\\appdata\\roaming\\python\\python312\\site-packages (from matplotlib!=3.6.1,>=3.4->seaborn) (25.0)\n",
      "Requirement already satisfied: pillow>=8 in c:\\users\\lenovo\\appdata\\local\\programs\\python\\python312\\lib\\site-packages (from matplotlib!=3.6.1,>=3.4->seaborn) (11.3.0)\n",
      "Requirement already satisfied: pyparsing>=2.3.1 in c:\\users\\lenovo\\appdata\\local\\programs\\python\\python312\\lib\\site-packages (from matplotlib!=3.6.1,>=3.4->seaborn) (3.2.3)\n",
      "Requirement already satisfied: python-dateutil>=2.7 in c:\\users\\lenovo\\appdata\\roaming\\python\\python312\\site-packages (from matplotlib!=3.6.1,>=3.4->seaborn) (2.9.0.post0)\n",
      "Requirement already satisfied: pytz>=2020.1 in c:\\users\\lenovo\\appdata\\local\\programs\\python\\python312\\lib\\site-packages (from pandas>=1.2->seaborn) (2025.2)\n",
      "Requirement already satisfied: tzdata>=2022.7 in c:\\users\\lenovo\\appdata\\local\\programs\\python\\python312\\lib\\site-packages (from pandas>=1.2->seaborn) (2025.2)\n",
      "Requirement already satisfied: six>=1.5 in c:\\users\\lenovo\\appdata\\roaming\\python\\python312\\site-packages (from python-dateutil>=2.7->matplotlib!=3.6.1,>=3.4->seaborn) (1.17.0)\n",
      "Note: you may need to restart the kernel to use updated packages.\n"
     ]
    },
    {
     "name": "stderr",
     "output_type": "stream",
     "text": [
      "\n",
      "[notice] A new release of pip is available: 24.3.1 -> 25.2\n",
      "[notice] To update, run: python.exe -m pip install --upgrade pip\n"
     ]
    }
   ],
   "source": [
    "pip install seaborn "
   ]
  },
  {
   "cell_type": "code",
   "execution_count": 3,
   "id": "f46ea0d1",
   "metadata": {},
   "outputs": [
    {
     "name": "stdout",
     "output_type": "stream",
     "text": [
      "Requirement already satisfied: scikit-learn in c:\\users\\lenovo\\appdata\\local\\programs\\python\\python312\\lib\\site-packages (1.7.1)\n",
      "Requirement already satisfied: numpy>=1.22.0 in c:\\users\\lenovo\\appdata\\local\\programs\\python\\python312\\lib\\site-packages (from scikit-learn) (2.3.2)\n",
      "Requirement already satisfied: scipy>=1.8.0 in c:\\users\\lenovo\\appdata\\local\\programs\\python\\python312\\lib\\site-packages (from scikit-learn) (1.16.1)\n",
      "Requirement already satisfied: joblib>=1.2.0 in c:\\users\\lenovo\\appdata\\local\\programs\\python\\python312\\lib\\site-packages (from scikit-learn) (1.5.1)\n",
      "Requirement already satisfied: threadpoolctl>=3.1.0 in c:\\users\\lenovo\\appdata\\local\\programs\\python\\python312\\lib\\site-packages (from scikit-learn) (3.6.0)\n",
      "Note: you may need to restart the kernel to use updated packages.\n"
     ]
    },
    {
     "name": "stderr",
     "output_type": "stream",
     "text": [
      "\n",
      "[notice] A new release of pip is available: 24.3.1 -> 25.2\n",
      "[notice] To update, run: python.exe -m pip install --upgrade pip\n"
     ]
    }
   ],
   "source": [
    "pip install scikit-learn\n"
   ]
  },
  {
   "cell_type": "code",
   "execution_count": 4,
   "id": "ae15aa84",
   "metadata": {},
   "outputs": [
    {
     "name": "stdout",
     "output_type": "stream",
     "text": [
      "Requirement already satisfied: one_hot_encoder in c:\\users\\lenovo\\appdata\\local\\programs\\python\\python312\\lib\\site-packages (1.1)\n",
      "Note: you may need to restart the kernel to use updated packages.\n"
     ]
    },
    {
     "name": "stderr",
     "output_type": "stream",
     "text": [
      "\n",
      "[notice] A new release of pip is available: 24.3.1 -> 25.2\n",
      "[notice] To update, run: python.exe -m pip install --upgrade pip\n"
     ]
    }
   ],
   "source": [
    "pip install one_hot_encoder"
   ]
  },
  {
   "cell_type": "code",
   "execution_count": 5,
   "id": "85fb1295",
   "metadata": {},
   "outputs": [
    {
     "name": "stdout",
     "output_type": "stream",
     "text": [
      "Requirement already satisfied: category_encoders in c:\\users\\lenovo\\appdata\\local\\programs\\python\\python312\\lib\\site-packages (2.8.1)\n",
      "Requirement already satisfied: numpy>=1.14.0 in c:\\users\\lenovo\\appdata\\local\\programs\\python\\python312\\lib\\site-packages (from category_encoders) (2.3.2)\n",
      "Requirement already satisfied: pandas>=1.0.5 in c:\\users\\lenovo\\appdata\\local\\programs\\python\\python312\\lib\\site-packages (from category_encoders) (2.3.1)\n",
      "Requirement already satisfied: patsy>=0.5.1 in c:\\users\\lenovo\\appdata\\local\\programs\\python\\python312\\lib\\site-packages (from category_encoders) (1.0.1)\n",
      "Requirement already satisfied: scikit-learn>=1.6.0 in c:\\users\\lenovo\\appdata\\local\\programs\\python\\python312\\lib\\site-packages (from category_encoders) (1.7.1)\n",
      "Requirement already satisfied: scipy>=1.0.0 in c:\\users\\lenovo\\appdata\\local\\programs\\python\\python312\\lib\\site-packages (from category_encoders) (1.16.1)\n",
      "Requirement already satisfied: statsmodels>=0.9.0 in c:\\users\\lenovo\\appdata\\local\\programs\\python\\python312\\lib\\site-packages (from category_encoders) (0.14.5)\n",
      "Requirement already satisfied: python-dateutil>=2.8.2 in c:\\users\\lenovo\\appdata\\roaming\\python\\python312\\site-packages (from pandas>=1.0.5->category_encoders) (2.9.0.post0)\n",
      "Requirement already satisfied: pytz>=2020.1 in c:\\users\\lenovo\\appdata\\local\\programs\\python\\python312\\lib\\site-packages (from pandas>=1.0.5->category_encoders) (2025.2)\n",
      "Requirement already satisfied: tzdata>=2022.7 in c:\\users\\lenovo\\appdata\\local\\programs\\python\\python312\\lib\\site-packages (from pandas>=1.0.5->category_encoders) (2025.2)\n",
      "Requirement already satisfied: joblib>=1.2.0 in c:\\users\\lenovo\\appdata\\local\\programs\\python\\python312\\lib\\site-packages (from scikit-learn>=1.6.0->category_encoders) (1.5.1)\n",
      "Requirement already satisfied: threadpoolctl>=3.1.0 in c:\\users\\lenovo\\appdata\\local\\programs\\python\\python312\\lib\\site-packages (from scikit-learn>=1.6.0->category_encoders) (3.6.0)\n",
      "Requirement already satisfied: packaging>=21.3 in c:\\users\\lenovo\\appdata\\roaming\\python\\python312\\site-packages (from statsmodels>=0.9.0->category_encoders) (25.0)\n",
      "Requirement already satisfied: six>=1.5 in c:\\users\\lenovo\\appdata\\roaming\\python\\python312\\site-packages (from python-dateutil>=2.8.2->pandas>=1.0.5->category_encoders) (1.17.0)\n",
      "Note: you may need to restart the kernel to use updated packages.\n"
     ]
    },
    {
     "name": "stderr",
     "output_type": "stream",
     "text": [
      "\n",
      "[notice] A new release of pip is available: 24.3.1 -> 25.2\n",
      "[notice] To update, run: python.exe -m pip install --upgrade pip\n"
     ]
    }
   ],
   "source": [
    "pip install category_encoders "
   ]
  },
  {
   "cell_type": "markdown",
   "id": "66548641",
   "metadata": {},
   "source": [
    "***Libraries***"
   ]
  },
  {
   "cell_type": "code",
   "execution_count": 6,
   "id": "4a5a5e0a",
   "metadata": {},
   "outputs": [],
   "source": [
    "import numpy as np\n",
    "import pandas as pd \n",
    "import seaborn as sns\n",
    "import matplotlib.pyplot as plt\n",
    "from sklearn.preprocessing import MinMaxScaler\n",
    "from category_encoders import OneHotEncoder\n",
    "\n",
    "import warnings \n",
    "warnings.filterwarnings('ignore')\n"
   ]
  },
  {
   "cell_type": "code",
   "execution_count": 7,
   "id": "affd9a27",
   "metadata": {},
   "outputs": [
    {
     "data": {
      "text/plain": [
       "\"df = pd.read_csv(r'D:\\\\Amit Diploma\\\\AMIT\\\\Sources\\\\DS\\\\courses\\titanic.csv')\\nor change slashes \\ndf = pd.read_csv('D:/Amit Diploma/AMIT/Sources/DS/courses/titanic.csv')\""
      ]
     },
     "execution_count": 7,
     "metadata": {},
     "output_type": "execute_result"
    }
   ],
   "source": [
    "'''df = pd.read_csv(r'D:\\Amit Diploma\\AMIT\\Sources\\DS\\courses\\titanic.csv')\n",
    "or change slashes \n",
    "df = pd.read_csv('D:/Amit Diploma/AMIT/Sources/DS/courses/titanic.csv')'''\n"
   ]
  },
  {
   "cell_type": "markdown",
   "id": "63f720f4",
   "metadata": {},
   "source": [
    "***READ_DATA***"
   ]
  },
  {
   "cell_type": "code",
   "execution_count": 8,
   "id": "732e35c5",
   "metadata": {},
   "outputs": [
    {
     "ename": "ModuleNotFoundError",
     "evalue": "No module named 'Sources'",
     "output_type": "error",
     "traceback": [
      "\u001b[31m---------------------------------------------------------------------------\u001b[39m",
      "\u001b[31mModuleNotFoundError\u001b[39m                       Traceback (most recent call last)",
      "\u001b[36mCell\u001b[39m\u001b[36m \u001b[39m\u001b[32mIn[8]\u001b[39m\u001b[32m, line 1\u001b[39m\n\u001b[32m----> \u001b[39m\u001b[32m1\u001b[39m \u001b[38;5;28;01mfrom\u001b[39;00m\u001b[38;5;250m \u001b[39m\u001b[34;01mSources\u001b[39;00m\u001b[34;01m.\u001b[39;00m\u001b[34;01mDS\u001b[39;00m\u001b[34;01m.\u001b[39;00m\u001b[34;01mcourses\u001b[39;00m\u001b[34;01m.\u001b[39;00m\u001b[34;01mPreprocessing\u001b[39;00m\u001b[34;01m.\u001b[39;00m\u001b[34;01mTitanic\u001b[39;00m\u001b[34;01m.\u001b[39;00m\u001b[34;01mmy_preprocessing\u001b[39;00m\u001b[38;5;250m \u001b[39m\u001b[38;5;28;01mimport\u001b[39;00m read_data\n\u001b[32m      2\u001b[39m df = read_data(\u001b[33m'\u001b[39m\u001b[33mtitanic.csv\u001b[39m\u001b[33m'\u001b[39m)\n",
      "\u001b[31mModuleNotFoundError\u001b[39m: No module named 'Sources'"
     ]
    }
   ],
   "source": [
    "from Sources.DS.courses.Preprocessing.Titanic.my_preprocessing import read_data\n",
    "df = read_data('titanic.csv')"
   ]
  },
  {
   "cell_type": "code",
   "execution_count": null,
   "id": "58587ffb",
   "metadata": {},
   "outputs": [
    {
     "data": {
      "text/html": [
       "<div>\n",
       "<style scoped>\n",
       "    .dataframe tbody tr th:only-of-type {\n",
       "        vertical-align: middle;\n",
       "    }\n",
       "\n",
       "    .dataframe tbody tr th {\n",
       "        vertical-align: top;\n",
       "    }\n",
       "\n",
       "    .dataframe thead th {\n",
       "        text-align: right;\n",
       "    }\n",
       "</style>\n",
       "<table border=\"1\" class=\"dataframe\">\n",
       "  <thead>\n",
       "    <tr style=\"text-align: right;\">\n",
       "      <th></th>\n",
       "      <th>PassengerId</th>\n",
       "      <th>Survived</th>\n",
       "      <th>Pclass</th>\n",
       "      <th>Age</th>\n",
       "      <th>SibSp</th>\n",
       "      <th>Parch</th>\n",
       "      <th>Fare</th>\n",
       "    </tr>\n",
       "  </thead>\n",
       "  <tbody>\n",
       "    <tr>\n",
       "      <th>count</th>\n",
       "      <td>891.000000</td>\n",
       "      <td>891.000000</td>\n",
       "      <td>891.000000</td>\n",
       "      <td>714.000000</td>\n",
       "      <td>891.000000</td>\n",
       "      <td>891.000000</td>\n",
       "      <td>891.000000</td>\n",
       "    </tr>\n",
       "    <tr>\n",
       "      <th>mean</th>\n",
       "      <td>446.000000</td>\n",
       "      <td>0.383838</td>\n",
       "      <td>2.308642</td>\n",
       "      <td>29.699118</td>\n",
       "      <td>0.523008</td>\n",
       "      <td>0.381594</td>\n",
       "      <td>32.204208</td>\n",
       "    </tr>\n",
       "    <tr>\n",
       "      <th>std</th>\n",
       "      <td>257.353842</td>\n",
       "      <td>0.486592</td>\n",
       "      <td>0.836071</td>\n",
       "      <td>14.526497</td>\n",
       "      <td>1.102743</td>\n",
       "      <td>0.806057</td>\n",
       "      <td>49.693429</td>\n",
       "    </tr>\n",
       "    <tr>\n",
       "      <th>min</th>\n",
       "      <td>1.000000</td>\n",
       "      <td>0.000000</td>\n",
       "      <td>1.000000</td>\n",
       "      <td>0.420000</td>\n",
       "      <td>0.000000</td>\n",
       "      <td>0.000000</td>\n",
       "      <td>0.000000</td>\n",
       "    </tr>\n",
       "    <tr>\n",
       "      <th>25%</th>\n",
       "      <td>223.500000</td>\n",
       "      <td>0.000000</td>\n",
       "      <td>2.000000</td>\n",
       "      <td>20.125000</td>\n",
       "      <td>0.000000</td>\n",
       "      <td>0.000000</td>\n",
       "      <td>7.910400</td>\n",
       "    </tr>\n",
       "    <tr>\n",
       "      <th>50%</th>\n",
       "      <td>446.000000</td>\n",
       "      <td>0.000000</td>\n",
       "      <td>3.000000</td>\n",
       "      <td>28.000000</td>\n",
       "      <td>0.000000</td>\n",
       "      <td>0.000000</td>\n",
       "      <td>14.454200</td>\n",
       "    </tr>\n",
       "    <tr>\n",
       "      <th>75%</th>\n",
       "      <td>668.500000</td>\n",
       "      <td>1.000000</td>\n",
       "      <td>3.000000</td>\n",
       "      <td>38.000000</td>\n",
       "      <td>1.000000</td>\n",
       "      <td>0.000000</td>\n",
       "      <td>31.000000</td>\n",
       "    </tr>\n",
       "    <tr>\n",
       "      <th>max</th>\n",
       "      <td>891.000000</td>\n",
       "      <td>1.000000</td>\n",
       "      <td>3.000000</td>\n",
       "      <td>80.000000</td>\n",
       "      <td>8.000000</td>\n",
       "      <td>6.000000</td>\n",
       "      <td>512.329200</td>\n",
       "    </tr>\n",
       "  </tbody>\n",
       "</table>\n",
       "</div>"
      ],
      "text/plain": [
       "       PassengerId    Survived      Pclass         Age       SibSp  \\\n",
       "count   891.000000  891.000000  891.000000  714.000000  891.000000   \n",
       "mean    446.000000    0.383838    2.308642   29.699118    0.523008   \n",
       "std     257.353842    0.486592    0.836071   14.526497    1.102743   \n",
       "min       1.000000    0.000000    1.000000    0.420000    0.000000   \n",
       "25%     223.500000    0.000000    2.000000   20.125000    0.000000   \n",
       "50%     446.000000    0.000000    3.000000   28.000000    0.000000   \n",
       "75%     668.500000    1.000000    3.000000   38.000000    1.000000   \n",
       "max     891.000000    1.000000    3.000000   80.000000    8.000000   \n",
       "\n",
       "            Parch        Fare  \n",
       "count  891.000000  891.000000  \n",
       "mean     0.381594   32.204208  \n",
       "std      0.806057   49.693429  \n",
       "min      0.000000    0.000000  \n",
       "25%      0.000000    7.910400  \n",
       "50%      0.000000   14.454200  \n",
       "75%      0.000000   31.000000  \n",
       "max      6.000000  512.329200  "
      ]
     },
     "execution_count": 9,
     "metadata": {},
     "output_type": "execute_result"
    }
   ],
   "source": [
    "df.describe()"
   ]
  },
  {
   "cell_type": "code",
   "execution_count": null,
   "id": "5dd15291",
   "metadata": {},
   "outputs": [
    {
     "name": "stdout",
     "output_type": "stream",
     "text": [
      "<class 'pandas.core.frame.DataFrame'>\n",
      "RangeIndex: 891 entries, 0 to 890\n",
      "Data columns (total 12 columns):\n",
      " #   Column       Non-Null Count  Dtype  \n",
      "---  ------       --------------  -----  \n",
      " 0   PassengerId  891 non-null    int64  \n",
      " 1   Survived     891 non-null    int64  \n",
      " 2   Pclass       891 non-null    int64  \n",
      " 3   Name         891 non-null    object \n",
      " 4   Sex          891 non-null    object \n",
      " 5   Age          714 non-null    float64\n",
      " 6   SibSp        891 non-null    int64  \n",
      " 7   Parch        891 non-null    int64  \n",
      " 8   Ticket       891 non-null    object \n",
      " 9   Fare         891 non-null    float64\n",
      " 10  Cabin        204 non-null    object \n",
      " 11  Embarked     889 non-null    object \n",
      "dtypes: float64(2), int64(5), object(5)\n",
      "memory usage: 83.7+ KB\n"
     ]
    }
   ],
   "source": [
    "df.info()"
   ]
  },
  {
   "cell_type": "code",
   "execution_count": null,
   "id": "d6f20208",
   "metadata": {},
   "outputs": [
    {
     "data": {
      "text/plain": [
       "\"df = pd.read_csv('titanic.csv')\\ndf.head()\""
      ]
     },
     "execution_count": 11,
     "metadata": {},
     "output_type": "execute_result"
    }
   ],
   "source": [
    "'''df = pd.read_csv('titanic.csv')\n",
    "df.head()'''"
   ]
  },
  {
   "cell_type": "markdown",
   "id": "c36f2c7e",
   "metadata": {},
   "source": [
    "***DROP NOT IMPORTANT FEATURES***"
   ]
  },
  {
   "cell_type": "code",
   "execution_count": null,
   "id": "8889153f",
   "metadata": {},
   "outputs": [],
   "source": [
    "#id , ticket not imp\n",
    "df.drop(['PassengerId','Name' ,'Ticket'], axis=1 , inplace=True)"
   ]
  },
  {
   "cell_type": "markdown",
   "id": "be905a1c",
   "metadata": {},
   "source": [
    "***CHECK_TYPES***"
   ]
  },
  {
   "cell_type": "code",
   "execution_count": null,
   "id": "7cef7a27",
   "metadata": {},
   "outputs": [
    {
     "data": {
      "text/plain": [
       "\"dtypes = df.dtypes\\nn_uniq = df.nunique()\\npd.DataFrame({'Dtypes': dtypes, 'Num_unique' : n_uniq})\\npd.DataFrame({'Dtypes': dtypes, 'Num_unique' : n_uniq}).T\""
      ]
     },
     "execution_count": 13,
     "metadata": {},
     "output_type": "execute_result"
    }
   ],
   "source": [
    "'''dtypes = df.dtypes\n",
    "n_uniq = df.nunique()\n",
    "pd.DataFrame({'Dtypes': dtypes, 'Num_unique' : n_uniq})\n",
    "pd.DataFrame({'Dtypes': dtypes, 'Num_unique' : n_uniq}).T'''"
   ]
  },
  {
   "cell_type": "code",
   "execution_count": null,
   "id": "c9c53e4c",
   "metadata": {},
   "outputs": [
    {
     "data": {
      "text/html": [
       "<div>\n",
       "<style scoped>\n",
       "    .dataframe tbody tr th:only-of-type {\n",
       "        vertical-align: middle;\n",
       "    }\n",
       "\n",
       "    .dataframe tbody tr th {\n",
       "        vertical-align: top;\n",
       "    }\n",
       "\n",
       "    .dataframe thead th {\n",
       "        text-align: right;\n",
       "    }\n",
       "</style>\n",
       "<table border=\"1\" class=\"dataframe\">\n",
       "  <thead>\n",
       "    <tr style=\"text-align: right;\">\n",
       "      <th></th>\n",
       "      <th>Survived</th>\n",
       "      <th>Pclass</th>\n",
       "      <th>Sex</th>\n",
       "      <th>Age</th>\n",
       "      <th>SibSp</th>\n",
       "      <th>Parch</th>\n",
       "      <th>Fare</th>\n",
       "      <th>Cabin</th>\n",
       "      <th>Embarked</th>\n",
       "    </tr>\n",
       "  </thead>\n",
       "  <tbody>\n",
       "    <tr>\n",
       "      <th>Dtypes</th>\n",
       "      <td>int64</td>\n",
       "      <td>int64</td>\n",
       "      <td>object</td>\n",
       "      <td>float64</td>\n",
       "      <td>int64</td>\n",
       "      <td>int64</td>\n",
       "      <td>float64</td>\n",
       "      <td>object</td>\n",
       "      <td>object</td>\n",
       "    </tr>\n",
       "    <tr>\n",
       "      <th>Num_unique</th>\n",
       "      <td>2</td>\n",
       "      <td>3</td>\n",
       "      <td>2</td>\n",
       "      <td>88</td>\n",
       "      <td>7</td>\n",
       "      <td>7</td>\n",
       "      <td>248</td>\n",
       "      <td>147</td>\n",
       "      <td>3</td>\n",
       "    </tr>\n",
       "  </tbody>\n",
       "</table>\n",
       "</div>"
      ],
      "text/plain": [
       "           Survived Pclass     Sex      Age  SibSp  Parch     Fare   Cabin  \\\n",
       "Dtypes        int64  int64  object  float64  int64  int64  float64  object   \n",
       "Num_unique        2      3       2       88      7      7      248     147   \n",
       "\n",
       "           Embarked  \n",
       "Dtypes       object  \n",
       "Num_unique        3  "
      ]
     },
     "execution_count": 14,
     "metadata": {},
     "output_type": "execute_result"
    }
   ],
   "source": [
    "from Sources.DS.courses.Preprocessing.Titanic.my_preprocessing import check_types\n",
    "check_types(df)"
   ]
  },
  {
   "cell_type": "markdown",
   "id": "ae70e628",
   "metadata": {},
   "source": [
    "**small num --> category**\n",
    "\n",
    "**big num --> numerical**\n",
    "\n",
    "**So, (Survived , Pclass , Sex , Embarked , SibSp , Parch) ---> not numerical --> category**"
   ]
  },
  {
   "cell_type": "code",
   "execution_count": null,
   "id": "96b65021",
   "metadata": {},
   "outputs": [
    {
     "data": {
      "text/html": [
       "<div>\n",
       "<style scoped>\n",
       "    .dataframe tbody tr th:only-of-type {\n",
       "        vertical-align: middle;\n",
       "    }\n",
       "\n",
       "    .dataframe tbody tr th {\n",
       "        vertical-align: top;\n",
       "    }\n",
       "\n",
       "    .dataframe thead th {\n",
       "        text-align: right;\n",
       "    }\n",
       "</style>\n",
       "<table border=\"1\" class=\"dataframe\">\n",
       "  <thead>\n",
       "    <tr style=\"text-align: right;\">\n",
       "      <th></th>\n",
       "      <th>Survived</th>\n",
       "      <th>Pclass</th>\n",
       "      <th>Sex</th>\n",
       "      <th>Age</th>\n",
       "      <th>SibSp</th>\n",
       "      <th>Parch</th>\n",
       "      <th>Fare</th>\n",
       "      <th>Cabin</th>\n",
       "      <th>Embarked</th>\n",
       "    </tr>\n",
       "  </thead>\n",
       "  <tbody>\n",
       "    <tr>\n",
       "      <th>Dtypes</th>\n",
       "      <td>category</td>\n",
       "      <td>category</td>\n",
       "      <td>category</td>\n",
       "      <td>float64</td>\n",
       "      <td>category</td>\n",
       "      <td>category</td>\n",
       "      <td>float64</td>\n",
       "      <td>object</td>\n",
       "      <td>category</td>\n",
       "    </tr>\n",
       "    <tr>\n",
       "      <th>Num_unique</th>\n",
       "      <td>2</td>\n",
       "      <td>3</td>\n",
       "      <td>2</td>\n",
       "      <td>88</td>\n",
       "      <td>7</td>\n",
       "      <td>7</td>\n",
       "      <td>248</td>\n",
       "      <td>147</td>\n",
       "      <td>3</td>\n",
       "    </tr>\n",
       "  </tbody>\n",
       "</table>\n",
       "</div>"
      ],
      "text/plain": [
       "            Survived    Pclass       Sex      Age     SibSp     Parch  \\\n",
       "Dtypes      category  category  category  float64  category  category   \n",
       "Num_unique         2         3         2       88         7         7   \n",
       "\n",
       "               Fare   Cabin  Embarked  \n",
       "Dtypes      float64  object  category  \n",
       "Num_unique      248     147         3  "
      ]
     },
     "execution_count": 15,
     "metadata": {},
     "output_type": "execute_result"
    }
   ],
   "source": [
    "cols = ['Survived', 'Pclass', 'Sex', 'SibSp', 'Parch','Embarked']\n",
    "df[cols] = df[cols].astype('category')\n",
    "check_types(df)"
   ]
  },
  {
   "cell_type": "markdown",
   "id": "13c708de",
   "metadata": {},
   "source": [
    "***CHECK_NULLS***"
   ]
  },
  {
   "cell_type": "code",
   "execution_count": null,
   "id": "a01384c3",
   "metadata": {},
   "outputs": [
    {
     "data": {
      "text/plain": [
       "\"null = df.isnull().sum()\\nratio = (null/df.shape[0])*100 \\npd.DataFrame({'Null_Sum': null, 'Ratio': ratio}).T\""
      ]
     },
     "execution_count": 16,
     "metadata": {},
     "output_type": "execute_result"
    }
   ],
   "source": [
    "'''null = df.isnull().sum()\n",
    "ratio = (null/df.shape[0])*100 \n",
    "pd.DataFrame({'Null_Sum': null, 'Ratio': ratio}).T'''"
   ]
  },
  {
   "cell_type": "code",
   "execution_count": null,
   "id": "434431d4",
   "metadata": {},
   "outputs": [
    {
     "data": {
      "text/html": [
       "<div>\n",
       "<style scoped>\n",
       "    .dataframe tbody tr th:only-of-type {\n",
       "        vertical-align: middle;\n",
       "    }\n",
       "\n",
       "    .dataframe tbody tr th {\n",
       "        vertical-align: top;\n",
       "    }\n",
       "\n",
       "    .dataframe thead th {\n",
       "        text-align: right;\n",
       "    }\n",
       "</style>\n",
       "<table border=\"1\" class=\"dataframe\">\n",
       "  <thead>\n",
       "    <tr style=\"text-align: right;\">\n",
       "      <th></th>\n",
       "      <th>Survived</th>\n",
       "      <th>Pclass</th>\n",
       "      <th>Sex</th>\n",
       "      <th>Age</th>\n",
       "      <th>SibSp</th>\n",
       "      <th>Parch</th>\n",
       "      <th>Fare</th>\n",
       "      <th>Cabin</th>\n",
       "      <th>Embarked</th>\n",
       "    </tr>\n",
       "  </thead>\n",
       "  <tbody>\n",
       "    <tr>\n",
       "      <th>Null_Sum</th>\n",
       "      <td>0.0</td>\n",
       "      <td>0.0</td>\n",
       "      <td>0.0</td>\n",
       "      <td>177.00000</td>\n",
       "      <td>0.0</td>\n",
       "      <td>0.0</td>\n",
       "      <td>0.0</td>\n",
       "      <td>687.000000</td>\n",
       "      <td>2.000000</td>\n",
       "    </tr>\n",
       "    <tr>\n",
       "      <th>Ratio</th>\n",
       "      <td>0.0</td>\n",
       "      <td>0.0</td>\n",
       "      <td>0.0</td>\n",
       "      <td>19.86532</td>\n",
       "      <td>0.0</td>\n",
       "      <td>0.0</td>\n",
       "      <td>0.0</td>\n",
       "      <td>77.104377</td>\n",
       "      <td>0.224467</td>\n",
       "    </tr>\n",
       "  </tbody>\n",
       "</table>\n",
       "</div>"
      ],
      "text/plain": [
       "          Survived  Pclass  Sex        Age  SibSp  Parch  Fare       Cabin  \\\n",
       "Null_Sum       0.0     0.0  0.0  177.00000    0.0    0.0   0.0  687.000000   \n",
       "Ratio          0.0     0.0  0.0   19.86532    0.0    0.0   0.0   77.104377   \n",
       "\n",
       "          Embarked  \n",
       "Null_Sum  2.000000  \n",
       "Ratio     0.224467  "
      ]
     },
     "execution_count": 17,
     "metadata": {},
     "output_type": "execute_result"
    }
   ],
   "source": [
    "from Sources.DS.courses.Preprocessing.Titanic.my_preprocessing import check_nulls\n",
    "check_nulls(df)"
   ]
  },
  {
   "cell_type": "markdown",
   "id": "f0a12ea6",
   "metadata": {},
   "source": [
    "**if small number of Nulls --> drop them** \n",
    "\n",
    "**if not --> replace them by mean or median ( if we have outliers )**\n",
    "\n",
    "**if huge --> drop col**"
   ]
  },
  {
   "cell_type": "code",
   "execution_count": null,
   "id": "7202c3a8",
   "metadata": {},
   "outputs": [],
   "source": [
    "#df = df.dropna(subset=['Embarked'], inplace = True)\n",
    "#df = pd.read_csv('titanic.csv')"
   ]
  },
  {
   "cell_type": "code",
   "execution_count": null,
   "id": "52e1ce31",
   "metadata": {},
   "outputs": [],
   "source": [
    "#df = df.drop('Cabin' , axis = 1 , inplace = True)\n",
    "#df = pd.read_csv('titanic.csv')"
   ]
  },
  {
   "cell_type": "code",
   "execution_count": null,
   "id": "dc911668",
   "metadata": {},
   "outputs": [
    {
     "data": {
      "text/html": [
       "<div>\n",
       "<style scoped>\n",
       "    .dataframe tbody tr th:only-of-type {\n",
       "        vertical-align: middle;\n",
       "    }\n",
       "\n",
       "    .dataframe tbody tr th {\n",
       "        vertical-align: top;\n",
       "    }\n",
       "\n",
       "    .dataframe thead th {\n",
       "        text-align: right;\n",
       "    }\n",
       "</style>\n",
       "<table border=\"1\" class=\"dataframe\">\n",
       "  <thead>\n",
       "    <tr style=\"text-align: right;\">\n",
       "      <th></th>\n",
       "      <th>Survived</th>\n",
       "      <th>Pclass</th>\n",
       "      <th>Sex</th>\n",
       "      <th>Age</th>\n",
       "      <th>SibSp</th>\n",
       "      <th>Parch</th>\n",
       "      <th>Fare</th>\n",
       "      <th>Embarked</th>\n",
       "    </tr>\n",
       "  </thead>\n",
       "  <tbody>\n",
       "    <tr>\n",
       "      <th>0</th>\n",
       "      <td>0</td>\n",
       "      <td>3</td>\n",
       "      <td>male</td>\n",
       "      <td>22.0</td>\n",
       "      <td>1</td>\n",
       "      <td>0</td>\n",
       "      <td>7.2500</td>\n",
       "      <td>S</td>\n",
       "    </tr>\n",
       "    <tr>\n",
       "      <th>1</th>\n",
       "      <td>1</td>\n",
       "      <td>1</td>\n",
       "      <td>female</td>\n",
       "      <td>38.0</td>\n",
       "      <td>1</td>\n",
       "      <td>0</td>\n",
       "      <td>71.2833</td>\n",
       "      <td>C</td>\n",
       "    </tr>\n",
       "    <tr>\n",
       "      <th>2</th>\n",
       "      <td>1</td>\n",
       "      <td>3</td>\n",
       "      <td>female</td>\n",
       "      <td>26.0</td>\n",
       "      <td>0</td>\n",
       "      <td>0</td>\n",
       "      <td>7.9250</td>\n",
       "      <td>S</td>\n",
       "    </tr>\n",
       "    <tr>\n",
       "      <th>3</th>\n",
       "      <td>1</td>\n",
       "      <td>1</td>\n",
       "      <td>female</td>\n",
       "      <td>35.0</td>\n",
       "      <td>1</td>\n",
       "      <td>0</td>\n",
       "      <td>53.1000</td>\n",
       "      <td>S</td>\n",
       "    </tr>\n",
       "    <tr>\n",
       "      <th>4</th>\n",
       "      <td>0</td>\n",
       "      <td>3</td>\n",
       "      <td>male</td>\n",
       "      <td>35.0</td>\n",
       "      <td>0</td>\n",
       "      <td>0</td>\n",
       "      <td>8.0500</td>\n",
       "      <td>S</td>\n",
       "    </tr>\n",
       "  </tbody>\n",
       "</table>\n",
       "</div>"
      ],
      "text/plain": [
       "  Survived Pclass     Sex   Age SibSp Parch     Fare Embarked\n",
       "0        0      3    male  22.0     1     0   7.2500        S\n",
       "1        1      1  female  38.0     1     0  71.2833        C\n",
       "2        1      3  female  26.0     0     0   7.9250        S\n",
       "3        1      1  female  35.0     1     0  53.1000        S\n",
       "4        0      3    male  35.0     0     0   8.0500        S"
      ]
     },
     "execution_count": 20,
     "metadata": {},
     "output_type": "execute_result"
    }
   ],
   "source": [
    "df1 = df.dropna(subset=[\"Embarked\"], inplace= True)\n",
    "df2 = df.drop(\"Cabin\", axis=1, inplace=True)\n",
    "df.head()"
   ]
  },
  {
   "cell_type": "code",
   "execution_count": null,
   "id": "2a71bdad",
   "metadata": {},
   "outputs": [
    {
     "data": {
      "text/plain": [
       "0      22.0\n",
       "1      38.0\n",
       "2      26.0\n",
       "3      35.0\n",
       "4      35.0\n",
       "       ... \n",
       "886    27.0\n",
       "887    19.0\n",
       "888    28.0\n",
       "889    26.0\n",
       "890    32.0\n",
       "Name: Age, Length: 889, dtype: float64"
      ]
     },
     "execution_count": 21,
     "metadata": {},
     "output_type": "execute_result"
    }
   ],
   "source": [
    "median = df['Age'].median()\n",
    "df['Age'].fillna(median, inplace = True)\n",
    "df.Age"
   ]
  },
  {
   "cell_type": "markdown",
   "id": "101802e8",
   "metadata": {},
   "source": [
    "***CHECK_DUPLICATED***"
   ]
  },
  {
   "cell_type": "code",
   "execution_count": null,
   "id": "ce36580a",
   "metadata": {},
   "outputs": [
    {
     "data": {
      "text/plain": [
       "'df.duplicated().sum()\\ndf.drop_duplicates(inplace=True)\\ndf.duplicated().sum()\\ndf.head|()'"
      ]
     },
     "execution_count": 22,
     "metadata": {},
     "output_type": "execute_result"
    }
   ],
   "source": [
    "'''df.duplicated().sum()\n",
    "df.drop_duplicates(inplace=True)\n",
    "df.duplicated().sum()\n",
    "df.head|()'''"
   ]
  },
  {
   "cell_type": "code",
   "execution_count": null,
   "id": "4ca448f8",
   "metadata": {},
   "outputs": [
    {
     "name": "stdout",
     "output_type": "stream",
     "text": [
      "Before removing duplicated rows:\n",
      "Duplicated rows count: 116\n",
      "Total rows: 889\n",
      "\n",
      "After removing duplicated rows:\n",
      "Duplicated rows count: 0\n",
      "Total rows: 773\n"
     ]
    },
    {
     "data": {
      "text/html": [
       "<div>\n",
       "<style scoped>\n",
       "    .dataframe tbody tr th:only-of-type {\n",
       "        vertical-align: middle;\n",
       "    }\n",
       "\n",
       "    .dataframe tbody tr th {\n",
       "        vertical-align: top;\n",
       "    }\n",
       "\n",
       "    .dataframe thead th {\n",
       "        text-align: right;\n",
       "    }\n",
       "</style>\n",
       "<table border=\"1\" class=\"dataframe\">\n",
       "  <thead>\n",
       "    <tr style=\"text-align: right;\">\n",
       "      <th></th>\n",
       "      <th>Survived</th>\n",
       "      <th>Pclass</th>\n",
       "      <th>Sex</th>\n",
       "      <th>Age</th>\n",
       "      <th>SibSp</th>\n",
       "      <th>Parch</th>\n",
       "      <th>Fare</th>\n",
       "      <th>Embarked</th>\n",
       "    </tr>\n",
       "  </thead>\n",
       "  <tbody>\n",
       "    <tr>\n",
       "      <th>0</th>\n",
       "      <td>0</td>\n",
       "      <td>3</td>\n",
       "      <td>male</td>\n",
       "      <td>22.0</td>\n",
       "      <td>1</td>\n",
       "      <td>0</td>\n",
       "      <td>7.2500</td>\n",
       "      <td>S</td>\n",
       "    </tr>\n",
       "    <tr>\n",
       "      <th>1</th>\n",
       "      <td>1</td>\n",
       "      <td>1</td>\n",
       "      <td>female</td>\n",
       "      <td>38.0</td>\n",
       "      <td>1</td>\n",
       "      <td>0</td>\n",
       "      <td>71.2833</td>\n",
       "      <td>C</td>\n",
       "    </tr>\n",
       "    <tr>\n",
       "      <th>2</th>\n",
       "      <td>1</td>\n",
       "      <td>3</td>\n",
       "      <td>female</td>\n",
       "      <td>26.0</td>\n",
       "      <td>0</td>\n",
       "      <td>0</td>\n",
       "      <td>7.9250</td>\n",
       "      <td>S</td>\n",
       "    </tr>\n",
       "    <tr>\n",
       "      <th>3</th>\n",
       "      <td>1</td>\n",
       "      <td>1</td>\n",
       "      <td>female</td>\n",
       "      <td>35.0</td>\n",
       "      <td>1</td>\n",
       "      <td>0</td>\n",
       "      <td>53.1000</td>\n",
       "      <td>S</td>\n",
       "    </tr>\n",
       "    <tr>\n",
       "      <th>4</th>\n",
       "      <td>0</td>\n",
       "      <td>3</td>\n",
       "      <td>male</td>\n",
       "      <td>35.0</td>\n",
       "      <td>0</td>\n",
       "      <td>0</td>\n",
       "      <td>8.0500</td>\n",
       "      <td>S</td>\n",
       "    </tr>\n",
       "    <tr>\n",
       "      <th>...</th>\n",
       "      <td>...</td>\n",
       "      <td>...</td>\n",
       "      <td>...</td>\n",
       "      <td>...</td>\n",
       "      <td>...</td>\n",
       "      <td>...</td>\n",
       "      <td>...</td>\n",
       "      <td>...</td>\n",
       "    </tr>\n",
       "    <tr>\n",
       "      <th>885</th>\n",
       "      <td>0</td>\n",
       "      <td>3</td>\n",
       "      <td>female</td>\n",
       "      <td>39.0</td>\n",
       "      <td>0</td>\n",
       "      <td>5</td>\n",
       "      <td>29.1250</td>\n",
       "      <td>Q</td>\n",
       "    </tr>\n",
       "    <tr>\n",
       "      <th>887</th>\n",
       "      <td>1</td>\n",
       "      <td>1</td>\n",
       "      <td>female</td>\n",
       "      <td>19.0</td>\n",
       "      <td>0</td>\n",
       "      <td>0</td>\n",
       "      <td>30.0000</td>\n",
       "      <td>S</td>\n",
       "    </tr>\n",
       "    <tr>\n",
       "      <th>888</th>\n",
       "      <td>0</td>\n",
       "      <td>3</td>\n",
       "      <td>female</td>\n",
       "      <td>28.0</td>\n",
       "      <td>1</td>\n",
       "      <td>2</td>\n",
       "      <td>23.4500</td>\n",
       "      <td>S</td>\n",
       "    </tr>\n",
       "    <tr>\n",
       "      <th>889</th>\n",
       "      <td>1</td>\n",
       "      <td>1</td>\n",
       "      <td>male</td>\n",
       "      <td>26.0</td>\n",
       "      <td>0</td>\n",
       "      <td>0</td>\n",
       "      <td>30.0000</td>\n",
       "      <td>C</td>\n",
       "    </tr>\n",
       "    <tr>\n",
       "      <th>890</th>\n",
       "      <td>0</td>\n",
       "      <td>3</td>\n",
       "      <td>male</td>\n",
       "      <td>32.0</td>\n",
       "      <td>0</td>\n",
       "      <td>0</td>\n",
       "      <td>7.7500</td>\n",
       "      <td>Q</td>\n",
       "    </tr>\n",
       "  </tbody>\n",
       "</table>\n",
       "<p>773 rows × 8 columns</p>\n",
       "</div>"
      ],
      "text/plain": [
       "    Survived Pclass     Sex   Age SibSp Parch     Fare Embarked\n",
       "0          0      3    male  22.0     1     0   7.2500        S\n",
       "1          1      1  female  38.0     1     0  71.2833        C\n",
       "2          1      3  female  26.0     0     0   7.9250        S\n",
       "3          1      1  female  35.0     1     0  53.1000        S\n",
       "4          0      3    male  35.0     0     0   8.0500        S\n",
       "..       ...    ...     ...   ...   ...   ...      ...      ...\n",
       "885        0      3  female  39.0     0     5  29.1250        Q\n",
       "887        1      1  female  19.0     0     0  30.0000        S\n",
       "888        0      3  female  28.0     1     2  23.4500        S\n",
       "889        1      1    male  26.0     0     0  30.0000        C\n",
       "890        0      3    male  32.0     0     0   7.7500        Q\n",
       "\n",
       "[773 rows x 8 columns]"
      ]
     },
     "execution_count": 23,
     "metadata": {},
     "output_type": "execute_result"
    }
   ],
   "source": [
    "from Sources.DS.courses.Preprocessing.Titanic.my_preprocessing import check_duplicated\n",
    "check_duplicated(df)"
   ]
  },
  {
   "cell_type": "markdown",
   "id": "77981577",
   "metadata": {},
   "source": [
    "***CHECK_OUTLIERS***"
   ]
  },
  {
   "cell_type": "code",
   "execution_count": null,
   "id": "f795c042",
   "metadata": {},
   "outputs": [
    {
     "data": {
      "text/plain": [
       "\"#check outliers\\nnum_cols = df.select_dtypes('number').columns\\nnum_cols\""
      ]
     },
     "execution_count": 24,
     "metadata": {},
     "output_type": "execute_result"
    }
   ],
   "source": [
    "'''#check outliers\n",
    "num_cols = df.select_dtypes('number').columns\n",
    "num_cols'''"
   ]
  },
  {
   "cell_type": "code",
   "execution_count": null,
   "id": "cc8c8f2a",
   "metadata": {},
   "outputs": [
    {
     "data": {
      "text/plain": [
       "\"plt.figure(figsize = (8,1))\\nfor i , col in enumerate(num_cols):\\n    plt.subplot(1,2,i+1)\\n    sns.boxplot(df[col], orient='h')\\n    plt.title(f'{col} Boxplot')\""
      ]
     },
     "execution_count": 25,
     "metadata": {},
     "output_type": "execute_result"
    }
   ],
   "source": [
    "'''plt.figure(figsize = (8,1))\n",
    "for i , col in enumerate(num_cols):\n",
    "    plt.subplot(1,2,i+1)\n",
    "    sns.boxplot(df[col], orient='h')\n",
    "    plt.title(f'{col} Boxplot')'''"
   ]
  },
  {
   "cell_type": "code",
   "execution_count": null,
   "id": "5eb10717",
   "metadata": {},
   "outputs": [
    {
     "data": {
      "text/plain": [
       "'for col in num_cols:\\n    Q1 = df[col].quantile(0.25)\\n    Q3 = df[col].quantile(0.75)\\n    IQR = Q3 - Q1\\n\\n    lower_fence = Q1 - 1.5*IQR\\n    upper_fence = Q3 + 1.5*IQR \\n\\n    lower_outliers = df[df[col] < lower_fence][col].values\\n    upper_outliers = df[df[col] > upper_fence][col].values\\n\\n    df[col].replace(lower_outliers, lower_fence, inplace = True)\\n    df[col].replace(upper_outliers, upper_fence, inplace = True)'"
      ]
     },
     "execution_count": 26,
     "metadata": {},
     "output_type": "execute_result"
    }
   ],
   "source": [
    "'''for col in num_cols:\n",
    "    Q1 = df[col].quantile(0.25)\n",
    "    Q3 = df[col].quantile(0.75)\n",
    "    IQR = Q3 - Q1\n",
    "\n",
    "    lower_fence = Q1 - 1.5*IQR\n",
    "    upper_fence = Q3 + 1.5*IQR \n",
    "\n",
    "    lower_outliers = df[df[col] < lower_fence][col].values\n",
    "    upper_outliers = df[df[col] > upper_fence][col].values\n",
    "\n",
    "    df[col].replace(lower_outliers, lower_fence, inplace = True)\n",
    "    df[col].replace(upper_outliers, upper_fence, inplace = True)'''"
   ]
  },
  {
   "cell_type": "code",
   "execution_count": null,
   "id": "6daaaf05",
   "metadata": {},
   "outputs": [
    {
     "data": {
      "text/plain": [
       "\"plt.figure(figsize = (8,1))\\nfor i , col in enumerate(num_cols):\\n    plt.subplot(1,2,i+1)\\n    sns.boxplot(df[col], orient='h')\\n    plt.title(f'{col} Boxplot')\""
      ]
     },
     "execution_count": 27,
     "metadata": {},
     "output_type": "execute_result"
    }
   ],
   "source": [
    "'''plt.figure(figsize = (8,1))\n",
    "for i , col in enumerate(num_cols):\n",
    "    plt.subplot(1,2,i+1)\n",
    "    sns.boxplot(df[col], orient='h')\n",
    "    plt.title(f'{col} Boxplot')'''"
   ]
  },
  {
   "cell_type": "code",
   "execution_count": null,
   "id": "09e1c48d",
   "metadata": {},
   "outputs": [
    {
     "name": "stdout",
     "output_type": "stream",
     "text": [
      "Numeric columns: ['Age', 'Fare']\n",
      "Plotting before handling outliers...\n",
      "Plotting before boxplot for column: Age\n",
      "Plotting before boxplot for column: Fare\n"
     ]
    },
    {
     "data": {
      "image/png": "[encoded data removed]",
      "text/plain": [
       "<Figure size 800x600 with 2 Axes>"
      ]
     },
     "metadata": {},
     "output_type": "display_data"
    },
    {
     "name": "stdout",
     "output_type": "stream",
     "text": [
      "Plotting after handling outliers...\n",
      "Plotting after boxplot for column: Age\n",
      "Plotting after boxplot for column: Fare\n"
     ]
    },
    {
     "data": {
      "image/png": "[encoded data removed]",
      "text/plain": [
       "<Figure size 800x600 with 2 Axes>"
      ]
     },
     "metadata": {},
     "output_type": "display_data"
    }
   ],
   "source": [
    "from Sources.DS.courses.Preprocessing.Titanic.my_preprocessing import check_outliers\n",
    "check_outliers(df)"
   ]
  },
  {
   "cell_type": "markdown",
   "id": "da43ce26",
   "metadata": {},
   "source": [
    "***VISUALIZATION***"
   ]
  },
  {
   "cell_type": "markdown",
   "id": "c2407031",
   "metadata": {},
   "source": [
    "Histogram & KDE plt for numercial cols"
   ]
  },
  {
   "cell_type": "code",
   "execution_count": null,
   "id": "146c0f5a",
   "metadata": {},
   "outputs": [
    {
     "data": {
      "text/plain": [
       "\"plt.figure(figsize = (9,2))\\nfor i , col in enumerate(num_cols):\\n    plt.subplot(1,2,i+1)\\n    plt.hist(df[col], edgecolor='black')\\n    plt.title(f'{col} histogram')\""
      ]
     },
     "execution_count": 29,
     "metadata": {},
     "output_type": "execute_result"
    }
   ],
   "source": [
    "'''plt.figure(figsize = (9,2))\n",
    "for i , col in enumerate(num_cols):\n",
    "    plt.subplot(1,2,i+1)\n",
    "    plt.hist(df[col], edgecolor='black')\n",
    "    plt.title(f'{col} histogram')'''"
   ]
  },
  {
   "cell_type": "code",
   "execution_count": null,
   "id": "3205bd3d",
   "metadata": {},
   "outputs": [
    {
     "data": {
      "text/plain": [
       "\"plt.figure(figsize = (9,2))\\nfor i , col in enumerate(num_cols):\\n    plt.subplot(1,2,i+1)\\n    sns.kdeplot(df[col])\\n    plt.title(f'{col} KDE')\""
      ]
     },
     "execution_count": 30,
     "metadata": {},
     "output_type": "execute_result"
    }
   ],
   "source": [
    "'''plt.figure(figsize = (9,2))\n",
    "for i , col in enumerate(num_cols):\n",
    "    plt.subplot(1,2,i+1)\n",
    "    sns.kdeplot(df[col])\n",
    "    plt.title(f'{col} KDE')'''"
   ]
  },
  {
   "cell_type": "markdown",
   "id": "09abb8f7",
   "metadata": {},
   "source": [
    "**Categorical features visualization**"
   ]
  },
  {
   "cell_type": "markdown",
   "id": "1eaae450",
   "metadata": {},
   "source": [
    "**univariate --> عمود مع نفسه مثلا عدد الذكور و النساء ف عمود الgender**\n",
    "\n",
    "**bivariate --> علاقه بين الذكوv و النساء و بين الناس اللي نجت**\n",
    "\n",
    "**multivariate --> علاقه بين اكثر من عمود|**"
   ]
  },
  {
   "cell_type": "markdown",
   "id": "d9061728",
   "metadata": {},
   "source": [
    "**Count Plot**"
   ]
  },
  {
   "cell_type": "code",
   "execution_count": null,
   "id": "ca5d4c50",
   "metadata": {},
   "outputs": [
    {
     "data": {
      "text/plain": [
       "\"cat_cols = df.select_dtypes('category').columns\\nplt.figure(figsize = (14,4))\\nfor i , col in enumerate(cat_cols):\\n    plt.subplot(2,3,i+1)\\n    sns.countplot(x = col, data = df )\\n    plt.title(f'{col} Distribution Count plot')\\nplt.subplots_adjust(hspace= 0.8, wspace=0.3)\\nplt.show()\""
      ]
     },
     "execution_count": 31,
     "metadata": {},
     "output_type": "execute_result"
    }
   ],
   "source": [
    "'''cat_cols = df.select_dtypes('category').columns\n",
    "plt.figure(figsize = (14,4))\n",
    "for i , col in enumerate(cat_cols):\n",
    "    plt.subplot(2,3,i+1)\n",
    "    sns.countplot(x = col, data = df )\n",
    "    plt.title(f'{col} Distribution Count plot')\n",
    "plt.subplots_adjust(hspace= 0.8, wspace=0.3)\n",
    "plt.show()'''"
   ]
  },
  {
   "cell_type": "markdown",
   "id": "8fb4d59e",
   "metadata": {},
   "source": [
    "**PIE plot**"
   ]
  },
  {
   "cell_type": "code",
   "execution_count": null,
   "id": "6c515ec9",
   "metadata": {},
   "outputs": [
    {
     "data": {
      "text/plain": [
       "'unique = df[col].value_counts() \\ncount = unique.values\\nprint(unique)\\nprint(count)'"
      ]
     },
     "execution_count": 32,
     "metadata": {},
     "output_type": "execute_result"
    }
   ],
   "source": [
    "'''unique = df[col].value_counts() \n",
    "count = unique.values\n",
    "print(unique)\n",
    "print(count)'''"
   ]
  },
  {
   "cell_type": "code",
   "execution_count": null,
   "id": "8d0d358c",
   "metadata": {},
   "outputs": [
    {
     "data": {
      "text/plain": [
       "\"plt.figure(figsize = (9,4))\\nfor i , col in enumerate(cat_cols):\\n    plt.subplot(2,3,i+1)\\n    unique = df[col].value_counts()\\n    count = unique.values\\n    categories = unique.index\\n    plt.pie( count , labels=categories, startangle=140, autopct='%1.1d%%')\\n    plt.title(f'{col} Pie plot')\\nplt.subplots_adjust(hspace= 0.8, wspace=0.3)\\nplt.show()\""
      ]
     },
     "execution_count": 33,
     "metadata": {},
     "output_type": "execute_result"
    }
   ],
   "source": [
    "'''plt.figure(figsize = (9,4))\n",
    "for i , col in enumerate(cat_cols):\n",
    "    plt.subplot(2,3,i+1)\n",
    "    unique = df[col].value_counts()\n",
    "    count = unique.values\n",
    "    categories = unique.index\n",
    "    plt.pie( count , labels=categories, startangle=140, autopct='%1.1d%%')\n",
    "    plt.title(f'{col} Pie plot')\n",
    "plt.subplots_adjust(hspace= 0.8, wspace=0.3)\n",
    "plt.show()'''"
   ]
  },
  {
   "cell_type": "code",
   "execution_count": null,
   "id": "2c981294",
   "metadata": {},
   "outputs": [
    {
     "data": {
      "image/png": "[encoded data removed]",
      "text/plain": [
       "<Figure size 1500x300 with 2 Axes>"
      ]
     },
     "metadata": {},
     "output_type": "display_data"
    },
    {
     "data": {
      "image/png": "[encoded data removed]",
      "text/plain": [
       "<Figure size 1500x300 with 2 Axes>"
      ]
     },
     "metadata": {},
     "output_type": "display_data"
    },
    {
     "data": {
      "image/png": "[encoded data removed]",
      "text/plain": [
       "<Figure size 1400x1200 with 6 Axes>"
      ]
     },
     "metadata": {},
     "output_type": "display_data"
    },
    {
     "data": {
      "image/png": "[encoded data removed]",
      "text/plain": [
       "<Figure size 900x400 with 6 Axes>"
      ]
     },
     "metadata": {},
     "output_type": "display_data"
    }
   ],
   "source": [
    "from Sources.DS.courses.Preprocessing.Titanic.my_preprocessing import visual\n",
    "visual(df)"
   ]
  },
  {
   "cell_type": "markdown",
   "id": "04c41209",
   "metadata": {},
   "source": [
    "**if 2 numerical cols --> scatter, pair, line, heatmap plts**"
   ]
  },
  {
   "cell_type": "markdown",
   "id": "084d40b0",
   "metadata": {},
   "source": [
    "**if one numercial & one categorical --> barplot**"
   ]
  },
  {
   "cell_type": "markdown",
   "id": "66cf240e",
   "metadata": {},
   "source": [
    "**if 2 categorical cols --> heatmap**"
   ]
  },
  {
   "cell_type": "code",
   "execution_count": null,
   "id": "4d1c290c",
   "metadata": {},
   "outputs": [
    {
     "data": {
      "image/png": "[encoded data removed]",
      "text/plain": [
       "<Figure size 200x200 with 1 Axes>"
      ]
     },
     "metadata": {},
     "output_type": "display_data"
    }
   ],
   "source": [
    "#2 numerical age & fare\n",
    "plt.figure(figsize = (2,2))\n",
    "plt.scatter(df['Age'], df['Fare'])\n",
    "plt.xlabel('age')\n",
    "plt.ylabel('fare')\n",
    "plt.show()"
   ]
  },
  {
   "cell_type": "markdown",
   "id": "c435cbcb",
   "metadata": {},
   "source": [
    "**this is a weak relationship**"
   ]
  },
  {
   "cell_type": "code",
   "execution_count": null,
   "id": "2a5411bd",
   "metadata": {},
   "outputs": [
    {
     "data": {
      "text/plain": [
       "<seaborn.axisgrid.PairGrid at 0x1e11ec0c170>"
      ]
     },
     "execution_count": 36,
     "metadata": {},
     "output_type": "execute_result"
    },
    {
     "data": {
      "image/png": "[encoded data removed]",
      "text/plain": [
       "<Figure size 500x500 with 6 Axes>"
      ]
     },
     "metadata": {},
     "output_type": "display_data"
    }
   ],
   "source": [
    "sns.pairplot(df)"
   ]
  },
  {
   "cell_type": "markdown",
   "id": "8b6af2fb",
   "metadata": {},
   "source": [
    "corr = correlation → measures how strongly and in what direction two variables are related.\n",
    "\n",
    "* **+1** = perfect positive relation\n",
    "* **-1** = perfect negative relation\n",
    "* **0** = no linear relation "
   ]
  },
  {
   "cell_type": "code",
   "execution_count": null,
   "id": "aa49480d",
   "metadata": {},
   "outputs": [
    {
     "data": {
      "text/plain": [
       "<function matplotlib.pyplot.show(close=None, block=None)>"
      ]
     },
     "execution_count": 37,
     "metadata": {},
     "output_type": "execute_result"
    },
    {
     "data": {
      "image/png": "[encoded data removed]",
      "text/plain": [
       "<Figure size 200x200 with 2 Axes>"
      ]
     },
     "metadata": {},
     "output_type": "display_data"
    }
   ],
   "source": [
    "#heatmap\n",
    "corr = df[['Age','Fare']].corr()\n",
    "plt.figure(figsize=(2,2))\n",
    "sns.heatmap(corr,annot=True)\n",
    "plt.show"
   ]
  },
  {
   "cell_type": "code",
   "execution_count": null,
   "id": "2927fa79",
   "metadata": {},
   "outputs": [
    {
     "data": {
      "image/png": "[encoded data removed]",
      "text/plain": [
       "<Figure size 200x200 with 1 Axes>"
      ]
     },
     "metadata": {},
     "output_type": "display_data"
    }
   ],
   "source": [
    "plt.figure(figsize=(2,2))\n",
    "sns.barplot(x='Survived', y='Fare', data = df)\n",
    "plt.show()"
   ]
  },
  {
   "cell_type": "code",
   "execution_count": null,
   "id": "2beb7bf7",
   "metadata": {},
   "outputs": [
    {
     "data": {
      "text/html": [
       "<div>\n",
       "<style scoped>\n",
       "    .dataframe tbody tr th:only-of-type {\n",
       "        vertical-align: middle;\n",
       "    }\n",
       "\n",
       "    .dataframe tbody tr th {\n",
       "        vertical-align: top;\n",
       "    }\n",
       "\n",
       "    .dataframe thead th {\n",
       "        text-align: right;\n",
       "    }\n",
       "</style>\n",
       "<table border=\"1\" class=\"dataframe\">\n",
       "  <thead>\n",
       "    <tr style=\"text-align: right;\">\n",
       "      <th>Sex</th>\n",
       "      <th>female</th>\n",
       "      <th>male</th>\n",
       "    </tr>\n",
       "    <tr>\n",
       "      <th>Survived</th>\n",
       "      <th></th>\n",
       "      <th></th>\n",
       "    </tr>\n",
       "  </thead>\n",
       "  <tbody>\n",
       "    <tr>\n",
       "      <th>0</th>\n",
       "      <td>76</td>\n",
       "      <td>379</td>\n",
       "    </tr>\n",
       "    <tr>\n",
       "      <th>1</th>\n",
       "      <td>214</td>\n",
       "      <td>104</td>\n",
       "    </tr>\n",
       "  </tbody>\n",
       "</table>\n",
       "</div>"
      ],
      "text/plain": [
       "Sex       female  male\n",
       "Survived              \n",
       "0             76   379\n",
       "1            214   104"
      ]
     },
     "execution_count": 39,
     "metadata": {},
     "output_type": "execute_result"
    }
   ],
   "source": [
    "agg = df.pivot_table(index='Survived', columns='Sex', values='Age', aggfunc=len)\n",
    "agg"
   ]
  },
  {
   "cell_type": "code",
   "execution_count": null,
   "id": "208d7751",
   "metadata": {},
   "outputs": [
    {
     "data": {
      "image/png": "[encoded data removed]",
      "text/plain": [
       "<Figure size 200x200 with 2 Axes>"
      ]
     },
     "metadata": {},
     "output_type": "display_data"
    }
   ],
   "source": [
    "plt.figure(figsize=(2,2))\n",
    "agg = df.pivot_table(index='Survived', columns='Sex', values='Age', aggfunc=len)\n",
    "sns.heatmap(agg)\n",
    "plt.show()"
   ]
  },
  {
   "cell_type": "markdown",
   "id": "695e0730",
   "metadata": {},
   "source": [
    "***data set splitting***"
   ]
  },
  {
   "cell_type": "code",
   "execution_count": null,
   "id": "3312f8cb",
   "metadata": {},
   "outputs": [
    {
     "data": {
      "text/plain": [
       "'x = df.iloc[:,1:]\\nx.head()'"
      ]
     },
     "execution_count": 41,
     "metadata": {},
     "output_type": "execute_result"
    }
   ],
   "source": [
    "'''x = df.iloc[:,1:]\n",
    "x.head()'''"
   ]
  },
  {
   "cell_type": "code",
   "execution_count": null,
   "id": "f2367b95",
   "metadata": {},
   "outputs": [
    {
     "data": {
      "text/plain": [
       "\"y = df['Survived']\\ny\""
      ]
     },
     "execution_count": 42,
     "metadata": {},
     "output_type": "execute_result"
    }
   ],
   "source": [
    "'''y = df['Survived']\n",
    "y'''"
   ]
  },
  {
   "cell_type": "code",
   "execution_count": null,
   "id": "f4f7d03e",
   "metadata": {},
   "outputs": [
    {
     "name": "stdout",
     "output_type": "stream",
     "text": [
      "X values:\n",
      "  Pclass     Sex   Age SibSp Parch     Fare Embarked\n",
      "0      3    male  22.0     1     0   7.2500        S\n",
      "1      1  female  38.0     1     0  71.2833        C\n",
      "2      3  female  26.0     0     0   7.9250        S\n",
      "3      1  female  35.0     1     0  53.1000        S\n",
      "4      3    male  35.0     0     0   8.0500        S\n",
      "\n",
      " Y values:\n",
      "0    0\n",
      "1    1\n",
      "2    1\n",
      "3    1\n",
      "4    0\n",
      "Name: Survived, dtype: category\n",
      "Categories (2, int64): [0, 1]\n"
     ]
    }
   ],
   "source": [
    "from Sources.DS.courses.Preprocessing.Titanic.my_preprocessing import split_data\n",
    "X, y = split_data(df, 'Survived')"
   ]
  },
  {
   "cell_type": "markdown",
   "id": "d547b55c",
   "metadata": {},
   "source": [
    "***Scaling , Normalization***"
   ]
  },
  {
   "cell_type": "code",
   "execution_count": null,
   "id": "0b184da8",
   "metadata": {},
   "outputs": [
    {
     "data": {
      "text/plain": [
       "'#create an instance from the class\\nscaler = MinMaxScaler()'"
      ]
     },
     "execution_count": 44,
     "metadata": {},
     "output_type": "execute_result"
    }
   ],
   "source": [
    "'''#create an instance from the class\n",
    "scaler = MinMaxScaler()'''"
   ]
  },
  {
   "cell_type": "code",
   "execution_count": null,
   "id": "1c2a9c04",
   "metadata": {},
   "outputs": [
    {
     "data": {
      "text/plain": [
       "\"num_cols = x.select_dtypes('number').columns\""
      ]
     },
     "execution_count": 45,
     "metadata": {},
     "output_type": "execute_result"
    }
   ],
   "source": [
    "'''num_cols = x.select_dtypes('number').columns'''"
   ]
  },
  {
   "cell_type": "code",
   "execution_count": null,
   "id": "20207740",
   "metadata": {},
   "outputs": [
    {
     "data": {
      "text/plain": [
       "'scaler.fit(x[num_cols])\\nx[num_cols] = scaler.transform(x[num_cols])\\nx.head()'"
      ]
     },
     "execution_count": 46,
     "metadata": {},
     "output_type": "execute_result"
    }
   ],
   "source": [
    "'''scaler.fit(x[num_cols])\n",
    "x[num_cols] = scaler.transform(x[num_cols])\n",
    "x.head()'''"
   ]
  },
  {
   "cell_type": "code",
   "execution_count": null,
   "id": "6ce40b4d",
   "metadata": {},
   "outputs": [
    {
     "name": "stdout",
     "output_type": "stream",
     "text": [
      "Before scaling:\n",
      "    Age     Fare\n",
      "0  22.0   7.2500\n",
      "1  38.0  71.2833\n",
      "2  26.0   7.9250\n",
      "3  35.0  53.1000\n",
      "4  35.0   8.0500\n",
      "\n",
      "After scaling:\n",
      "        Age      Fare\n",
      "0  0.371556  0.101151\n",
      "1  0.647039  0.994535\n",
      "2  0.440427  0.110569\n",
      "3  0.595386  0.740844\n",
      "4  0.595386  0.112313\n"
     ]
    }
   ],
   "source": [
    "from Sources.DS.courses.Preprocessing.Titanic.my_preprocessing import scale_columns\n",
    "df_scaled = scale_columns(df, ['Age', 'Fare'])"
   ]
  },
  {
   "cell_type": "markdown",
   "id": "a10100c0",
   "metadata": {},
   "source": [
    "***Encoding***"
   ]
  },
  {
   "cell_type": "markdown",
   "id": "325b9d64",
   "metadata": {},
   "source": [
    "**Nominal** : الترتيب مش مهم"
   ]
  },
  {
   "cell_type": "markdown",
   "id": "11e34d02",
   "metadata": {},
   "source": [
    "**Ordinal** : الترتيب مهم جدا "
   ]
  },
  {
   "cell_type": "markdown",
   "id": "c05bb166",
   "metadata": {},
   "source": [
    "**Ordinal Encoding or Label Encoding**\n",
    "\n",
    "**One hot Encoding**\n",
    "\n",
    "**Binary Encoding**"
   ]
  },
  {
   "attachments": {
    "image.png": {
     "image/png": "[encoded data removed]"
    }
   },
   "cell_type": "markdown",
   "id": "1d2eaacd",
   "metadata": {},
   "source": [
    "![image.png](attachment:image.png)"
   ]
  },
  {
   "cell_type": "markdown",
   "id": "3ce4d68e",
   "metadata": {},
   "source": [
    "**label encoding**"
   ]
  },
  {
   "attachments": {
    "image.png": {
     "image/png": "[encoded data removed]"
    }
   },
   "cell_type": "markdown",
   "id": "e75c0a12",
   "metadata": {},
   "source": [
    "![image.png](attachment:image.png)"
   ]
  },
  {
   "cell_type": "markdown",
   "id": "8be761ec",
   "metadata": {},
   "source": [
    "**Class weighted**\n",
    "**label encoding disadvantegs and sols**"
   ]
  },
  {
   "cell_type": "code",
   "execution_count": null,
   "id": "037608e9",
   "metadata": {},
   "outputs": [
    {
     "data": {
      "text/plain": [
       "\"str_col = ['Sex', 'Embarked']\\npd.DataFrame(x[str_col].nunique()).T\""
      ]
     },
     "execution_count": 48,
     "metadata": {},
     "output_type": "execute_result"
    }
   ],
   "source": [
    "'''str_col = ['Sex', 'Embarked']\n",
    "pd.DataFrame(x[str_col].nunique()).T'''"
   ]
  },
  {
   "cell_type": "code",
   "execution_count": null,
   "id": "9de293ce",
   "metadata": {},
   "outputs": [
    {
     "data": {
      "text/plain": [
       "'encoder = OneHotEncoder(cols = str_col, drop_invariant=True)\\nx = encoder.fit_transform(x)\\nx.head()'"
      ]
     },
     "execution_count": 49,
     "metadata": {},
     "output_type": "execute_result"
    }
   ],
   "source": [
    "'''encoder = OneHotEncoder(cols = str_col, drop_invariant=True)\n",
    "x = encoder.fit_transform(x)\n",
    "x.head()'''"
   ]
  },
  {
   "cell_type": "code",
   "execution_count": null,
   "id": "e911606a",
   "metadata": {},
   "outputs": [
    {
     "name": "stdout",
     "output_type": "stream",
     "text": [
      "Before encoding:\n",
      "      Sex Embarked\n",
      "0    male        S\n",
      "1  female        C\n",
      "2  female        S\n",
      "3  female        S\n",
      "4    male        S\n",
      "\n",
      "After encoding:\n",
      "  Survived Pclass  Sex_male  Sex_female   Age SibSp Parch     Fare  \\\n",
      "0        0      3         1           0  22.0     1     0   7.2500   \n",
      "1        1      1         0           1  38.0     1     0  71.2833   \n",
      "2        1      3         0           1  26.0     0     0   7.9250   \n",
      "3        1      1         0           1  35.0     1     0  53.1000   \n",
      "4        0      3         1           0  35.0     0     0   8.0500   \n",
      "\n",
      "   Embarked_S  Embarked_C  Embarked_Q  \n",
      "0           1           0           0  \n",
      "1           0           1           0  \n",
      "2           1           0           0  \n",
      "3           1           0           0  \n",
      "4           1           0           0  \n"
     ]
    }
   ],
   "source": [
    "from Sources.DS.courses.Preprocessing.Titanic.my_preprocessing import encode_columns\n",
    "df_encoded = encode_columns(df, ['Sex', 'Embarked'], encoding_type='OneHotEncoding')"
   ]
  },
  {
   "cell_type": "code",
   "execution_count": null,
   "id": "4388fcd4",
   "metadata": {},
   "outputs": [
    {
     "name": "stdout",
     "output_type": "stream",
     "text": [
      "Before encoding:\n",
      "      Sex Embarked\n",
      "0    male        S\n",
      "1  female        C\n",
      "2  female        S\n",
      "3  female        S\n",
      "4    male        S\n",
      "\n",
      "After encoding:\n",
      "  Survived Pclass  Sex   Age SibSp Parch     Fare  Embarked\n",
      "0        0      3    1  22.0     1     0   7.2500         1\n",
      "1        1      1    2  38.0     1     0  71.2833         2\n",
      "2        1      3    2  26.0     0     0   7.9250         1\n",
      "3        1      1    2  35.0     1     0  53.1000         1\n",
      "4        0      3    1  35.0     0     0   8.0500         1\n"
     ]
    }
   ],
   "source": [
    "df_encoded = encode_columns(df, ['Sex', 'Embarked'], encoding_type='label')"
   ]
  }
 ],
 "metadata": {
  "kernelspec": {
   "display_name": "Python 3",
   "language": "python",
   "name": "python3"
  },
  "language_info": {
   "codemirror_mode": {
    "name": "ipython",
    "version": 3
   },
   "file_extension": ".py",
   "mimetype": "text/x-python",
   "name": "python",
   "nbconvert_exporter": "python",
   "pygments_lexer": "ipython3",
   "version": "3.12.9"
  }
 },
 "nbformat": 4,
 "nbformat_minor": 5
}
